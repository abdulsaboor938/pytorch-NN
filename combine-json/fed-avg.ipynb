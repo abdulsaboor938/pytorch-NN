{
 "cells": [
  {
   "cell_type": "code",
   "execution_count": 2,
   "metadata": {},
   "outputs": [],
   "source": [
    "import json\n",
    "import numpy as np\n",
    "import pandas as pd"
   ]
  },
  {
   "cell_type": "code",
   "execution_count": 3,
   "metadata": {},
   "outputs": [],
   "source": [
    "# read a json file into numpy array\n",
    "with open('0.json', 'r') as f:\n",
    "        data = json.load(f)"
   ]
  },
  {
   "cell_type": "code",
   "execution_count": 4,
   "metadata": {},
   "outputs": [],
   "source": [
    "# apply fedavg on all the json files\n"
   ]
  },
  {
   "cell_type": "code",
   "execution_count": 6,
   "metadata": {},
   "outputs": [],
   "source": [
    "import json\n",
    "import numpy as np\n",
    "\n",
    "# Load weights from JSON files\n",
    "weights_files = [\n",
    "    \"0.json\",\n",
    "    \"1.json\",\n",
    "    \"2.json\",\n",
    "    \"3.json\",\n",
    "    \"4.json\",\n",
    "    \"6.json\",\n",
    "    \"7.json\",\n",
    "    \"8.json\",\n",
    "    \"9.json\",\n",
    "    \"10.json\",\n",
    "    \"11.json\",\n",
    "    \"12.json\",\n",
    "    \"13.json\",\n",
    "    # \"14.json\",\n",
    "    # Add paths to all client weights JSON files\n",
    "]\n",
    "\n",
    "weights = []\n",
    "for file in weights_files:\n",
    "    with open(file, \"r\") as f:\n",
    "        weights.append(json.load(f))\n",
    "\n",
    "# Load lengths from len.txt\n",
    "lengths = []\n",
    "with open(\"len.txt\", \"r\") as f:\n",
    "    for line in f:\n",
    "        lengths.append(int(line.split(\":\")[1].strip()))\n",
    "\n",
    "# Apply Federated Averaging\n",
    "global_weights = {}\n",
    "for key in weights[0].keys():\n",
    "    if \"weight\" in key or \"bias\" in key:\n",
    "        global_weights[key] = np.zeros_like(weights[0][key])\n",
    "\n",
    "for i, w in enumerate(weights):\n",
    "    for key in w.keys():\n",
    "        if \"weight\" in key or \"bias\" in key:\n",
    "            global_weights[key] += np.array(w[key]) * lengths[i]\n",
    "\n",
    "total_samples = sum(lengths)\n",
    "for key in global_weights.keys():\n",
    "    global_weights[key] /= total_samples\n",
    "\n",
    "# Convert NumPy arrays to Python lists\n",
    "for key in global_weights.keys():\n",
    "    global_weights[key] = global_weights[key].tolist()\n",
    "\n",
    "# Save the updated weights to a new JSON file\n",
    "with open(\"global_weights.json\", \"w\") as f:\n",
    "    json.dump(global_weights, f)"
   ]
  }
 ],
 "metadata": {
  "kernelspec": {
   "display_name": "tensorflow",
   "language": "python",
   "name": "python3"
  },
  "language_info": {
   "codemirror_mode": {
    "name": "ipython",
    "version": 3
   },
   "file_extension": ".py",
   "mimetype": "text/x-python",
   "name": "python",
   "nbconvert_exporter": "python",
   "pygments_lexer": "ipython3",
   "version": "3.10.11"
  }
 },
 "nbformat": 4,
 "nbformat_minor": 2
}
