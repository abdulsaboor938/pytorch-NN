{
 "cells": [
  {
   "cell_type": "code",
   "execution_count": 1,
   "metadata": {},
   "outputs": [
    {
     "name": "stdout",
     "output_type": "stream",
     "text": [
      "Requirement already satisfied: flwr in /Users/carbon/anaconda3/envs/tensorflow/lib/python3.10/site-packages (1.4.0)\n",
      "Requirement already satisfied: torch in /Users/carbon/anaconda3/envs/tensorflow/lib/python3.10/site-packages (2.0.1)\n",
      "Requirement already satisfied: torchvision in /Users/carbon/anaconda3/envs/tensorflow/lib/python3.10/site-packages (0.15.2)\n",
      "Requirement already satisfied: grpcio!=1.52.0,<2.0.0,>=1.48.2 in /Users/carbon/anaconda3/envs/tensorflow/lib/python3.10/site-packages (from flwr) (1.54.2)\n",
      "Requirement already satisfied: iterators<0.0.3,>=0.0.2 in /Users/carbon/anaconda3/envs/tensorflow/lib/python3.10/site-packages (from flwr) (0.0.2)\n",
      "Requirement already satisfied: numpy<2.0.0,>=1.21.0 in /Users/carbon/anaconda3/envs/tensorflow/lib/python3.10/site-packages (from flwr) (1.23.5)\n",
      "Requirement already satisfied: protobuf<4.0.0,>=3.19.0 in /Users/carbon/anaconda3/envs/tensorflow/lib/python3.10/site-packages (from flwr) (3.20.3)\n",
      "Requirement already satisfied: filelock in /Users/carbon/anaconda3/envs/tensorflow/lib/python3.10/site-packages (from torch) (3.12.2)\n",
      "Requirement already satisfied: typing-extensions in /Users/carbon/anaconda3/envs/tensorflow/lib/python3.10/site-packages (from torch) (4.5.0)\n",
      "Requirement already satisfied: sympy in /Users/carbon/anaconda3/envs/tensorflow/lib/python3.10/site-packages (from torch) (1.12)\n",
      "Requirement already satisfied: networkx in /Users/carbon/anaconda3/envs/tensorflow/lib/python3.10/site-packages (from torch) (3.1)\n",
      "Requirement already satisfied: jinja2 in /Users/carbon/anaconda3/envs/tensorflow/lib/python3.10/site-packages (from torch) (3.1.2)\n",
      "Requirement already satisfied: requests in /Users/carbon/anaconda3/envs/tensorflow/lib/python3.10/site-packages (from torchvision) (2.31.0)\n",
      "Requirement already satisfied: pillow!=8.3.*,>=5.3.0 in /Users/carbon/anaconda3/envs/tensorflow/lib/python3.10/site-packages (from torchvision) (9.5.0)\n",
      "Requirement already satisfied: MarkupSafe>=2.0 in /Users/carbon/anaconda3/envs/tensorflow/lib/python3.10/site-packages (from jinja2->torch) (2.1.3)\n",
      "Requirement already satisfied: charset-normalizer<4,>=2 in /Users/carbon/anaconda3/envs/tensorflow/lib/python3.10/site-packages (from requests->torchvision) (3.1.0)\n",
      "Requirement already satisfied: idna<4,>=2.5 in /Users/carbon/anaconda3/envs/tensorflow/lib/python3.10/site-packages (from requests->torchvision) (3.4)\n",
      "Requirement already satisfied: urllib3<3,>=1.21.1 in /Users/carbon/anaconda3/envs/tensorflow/lib/python3.10/site-packages (from requests->torchvision) (1.26.15)\n",
      "Requirement already satisfied: certifi>=2017.4.17 in /Users/carbon/anaconda3/envs/tensorflow/lib/python3.10/site-packages (from requests->torchvision) (2023.5.7)\n",
      "Requirement already satisfied: mpmath>=0.19 in /Users/carbon/anaconda3/envs/tensorflow/lib/python3.10/site-packages (from sympy->torch) (1.3.0)\n"
     ]
    }
   ],
   "source": [
    "!pip install flwr torch torchvision"
   ]
  }
 ],
 "metadata": {
  "kernelspec": {
   "display_name": "tensorflow",
   "language": "python",
   "name": "python3"
  },
  "language_info": {
   "codemirror_mode": {
    "name": "ipython",
    "version": 3
   },
   "file_extension": ".py",
   "mimetype": "text/x-python",
   "name": "python",
   "nbconvert_exporter": "python",
   "pygments_lexer": "ipython3",
   "version": "3.10.11"
  }
 },
 "nbformat": 4,
 "nbformat_minor": 2
}
