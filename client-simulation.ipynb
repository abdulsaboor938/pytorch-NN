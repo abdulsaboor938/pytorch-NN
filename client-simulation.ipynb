{
 "cells": [
  {
   "cell_type": "code",
   "execution_count": 1,
   "metadata": {},
   "outputs": [],
   "source": [
    "from preprocessing import *\n",
    "from model import *"
   ]
  },
  {
   "cell_type": "code",
   "execution_count": 2,
   "metadata": {},
   "outputs": [],
   "source": [
    "def get_data(path):\n",
    "    X,y=load_data(path)\n",
    "\n",
    "    # making a single column for all the activities\n",
    "    y['activity']=y.idxmax(axis=1)\n",
    "\n",
    "    # convering the categorical data into numerical data\n",
    "    y['activity']=y['activity'].replace({'label:FIX_walking':0,'label:SITTING':1,'label:SLEEPING':2,'label:OR_standing':3,'label:FIX_running':4})\n",
    "\n",
    "    y = y['activity']\n",
    "\n",
    "    X['y'] = y\n",
    "\n",
    "    return X"
   ]
  },
  {
   "cell_type": "code",
   "execution_count": 3,
   "metadata": {},
   "outputs": [],
   "source": [
    "X = get_data(\"00EABED2-271D-49D8-B599-1D4A09240601.features_labels.csv.gz\")"
   ]
  },
  {
   "cell_type": "code",
   "execution_count": 11,
   "metadata": {},
   "outputs": [
    {
     "data": {
      "text/html": [
       "<div>\n",
       "<style scoped>\n",
       "    .dataframe tbody tr th:only-of-type {\n",
       "        vertical-align: middle;\n",
       "    }\n",
       "\n",
       "    .dataframe tbody tr th {\n",
       "        vertical-align: top;\n",
       "    }\n",
       "\n",
       "    .dataframe thead th {\n",
       "        text-align: right;\n",
       "    }\n",
       "</style>\n",
       "<table border=\"1\" class=\"dataframe\">\n",
       "  <thead>\n",
       "    <tr style=\"text-align: right;\">\n",
       "      <th></th>\n",
       "      <th>acc_pitch</th>\n",
       "      <th>acc_roll</th>\n",
       "      <th>acc_yaw</th>\n",
       "      <th>gyro_pitch</th>\n",
       "      <th>gyro_roll</th>\n",
       "      <th>gyro_yaw</th>\n",
       "      <th>magno_pitch</th>\n",
       "      <th>magno_roll</th>\n",
       "      <th>magno_yaw</th>\n",
       "      <th>y</th>\n",
       "    </tr>\n",
       "  </thead>\n",
       "  <tbody>\n",
       "    <tr>\n",
       "      <th>0</th>\n",
       "      <td>0.15</td>\n",
       "      <td>0.29</td>\n",
       "      <td>-45.00</td>\n",
       "      <td>-0.10</td>\n",
       "      <td>-0.10</td>\n",
       "      <td>-0.10</td>\n",
       "      <td>21.15</td>\n",
       "      <td>9.07</td>\n",
       "      <td>-42.95</td>\n",
       "      <td>1</td>\n",
       "    </tr>\n",
       "    <tr>\n",
       "      <th>1</th>\n",
       "      <td>0.15</td>\n",
       "      <td>0.29</td>\n",
       "      <td>-45.00</td>\n",
       "      <td>-0.10</td>\n",
       "      <td>-0.10</td>\n",
       "      <td>-0.10</td>\n",
       "      <td>21.16</td>\n",
       "      <td>9.07</td>\n",
       "      <td>-42.95</td>\n",
       "      <td>1</td>\n",
       "    </tr>\n",
       "    <tr>\n",
       "      <th>2</th>\n",
       "      <td>0.29</td>\n",
       "      <td>0.29</td>\n",
       "      <td>-45.00</td>\n",
       "      <td>-0.10</td>\n",
       "      <td>-0.10</td>\n",
       "      <td>-0.10</td>\n",
       "      <td>21.15</td>\n",
       "      <td>9.09</td>\n",
       "      <td>-42.95</td>\n",
       "      <td>1</td>\n",
       "    </tr>\n",
       "    <tr>\n",
       "      <th>3</th>\n",
       "      <td>0.29</td>\n",
       "      <td>0.29</td>\n",
       "      <td>-45.00</td>\n",
       "      <td>-0.10</td>\n",
       "      <td>-0.10</td>\n",
       "      <td>-0.10</td>\n",
       "      <td>21.15</td>\n",
       "      <td>9.09</td>\n",
       "      <td>-42.95</td>\n",
       "      <td>1</td>\n",
       "    </tr>\n",
       "    <tr>\n",
       "      <th>4</th>\n",
       "      <td>-0.44</td>\n",
       "      <td>-0.00</td>\n",
       "      <td>-45.00</td>\n",
       "      <td>-0.00</td>\n",
       "      <td>-0.00</td>\n",
       "      <td>45.00</td>\n",
       "      <td>8.15</td>\n",
       "      <td>9.10</td>\n",
       "      <td>-44.70</td>\n",
       "      <td>1</td>\n",
       "    </tr>\n",
       "    <tr>\n",
       "      <th>...</th>\n",
       "      <td>...</td>\n",
       "      <td>...</td>\n",
       "      <td>...</td>\n",
       "      <td>...</td>\n",
       "      <td>...</td>\n",
       "      <td>...</td>\n",
       "      <td>...</td>\n",
       "      <td>...</td>\n",
       "      <td>...</td>\n",
       "      <td>...</td>\n",
       "    </tr>\n",
       "    <tr>\n",
       "      <th>2270</th>\n",
       "      <td>-0.15</td>\n",
       "      <td>-65.44</td>\n",
       "      <td>-45.00</td>\n",
       "      <td>-0.10</td>\n",
       "      <td>-0.10</td>\n",
       "      <td>-0.10</td>\n",
       "      <td>47.20</td>\n",
       "      <td>22.89</td>\n",
       "      <td>31.16</td>\n",
       "      <td>1</td>\n",
       "    </tr>\n",
       "    <tr>\n",
       "      <th>2271</th>\n",
       "      <td>-0.15</td>\n",
       "      <td>-59.06</td>\n",
       "      <td>-45.00</td>\n",
       "      <td>-67.38</td>\n",
       "      <td>-13.34</td>\n",
       "      <td>17.55</td>\n",
       "      <td>49.50</td>\n",
       "      <td>24.72</td>\n",
       "      <td>28.68</td>\n",
       "      <td>1</td>\n",
       "    </tr>\n",
       "    <tr>\n",
       "      <th>2272</th>\n",
       "      <td>1.82</td>\n",
       "      <td>-65.48</td>\n",
       "      <td>-44.92</td>\n",
       "      <td>0.00</td>\n",
       "      <td>69.19</td>\n",
       "      <td>45.00</td>\n",
       "      <td>8.72</td>\n",
       "      <td>14.89</td>\n",
       "      <td>-44.64</td>\n",
       "      <td>1</td>\n",
       "    </tr>\n",
       "    <tr>\n",
       "      <th>2273</th>\n",
       "      <td>0.78</td>\n",
       "      <td>-48.54</td>\n",
       "      <td>-44.99</td>\n",
       "      <td>9.55</td>\n",
       "      <td>-14.41</td>\n",
       "      <td>-44.57</td>\n",
       "      <td>10.66</td>\n",
       "      <td>15.54</td>\n",
       "      <td>-44.46</td>\n",
       "      <td>1</td>\n",
       "    </tr>\n",
       "    <tr>\n",
       "      <th>2274</th>\n",
       "      <td>-14.78</td>\n",
       "      <td>-20.04</td>\n",
       "      <td>-43.90</td>\n",
       "      <td>-0.10</td>\n",
       "      <td>-0.10</td>\n",
       "      <td>-0.10</td>\n",
       "      <td>7.13</td>\n",
       "      <td>14.35</td>\n",
       "      <td>-44.76</td>\n",
       "      <td>2</td>\n",
       "    </tr>\n",
       "  </tbody>\n",
       "</table>\n",
       "<p>1939 rows × 10 columns</p>\n",
       "</div>"
      ],
      "text/plain": [
       "      acc_pitch  acc_roll  acc_yaw  gyro_pitch  gyro_roll  gyro_yaw  \\\n",
       "0          0.15      0.29   -45.00       -0.10      -0.10     -0.10   \n",
       "1          0.15      0.29   -45.00       -0.10      -0.10     -0.10   \n",
       "2          0.29      0.29   -45.00       -0.10      -0.10     -0.10   \n",
       "3          0.29      0.29   -45.00       -0.10      -0.10     -0.10   \n",
       "4         -0.44     -0.00   -45.00       -0.00      -0.00     45.00   \n",
       "...         ...       ...      ...         ...        ...       ...   \n",
       "2270      -0.15    -65.44   -45.00       -0.10      -0.10     -0.10   \n",
       "2271      -0.15    -59.06   -45.00      -67.38     -13.34     17.55   \n",
       "2272       1.82    -65.48   -44.92        0.00      69.19     45.00   \n",
       "2273       0.78    -48.54   -44.99        9.55     -14.41    -44.57   \n",
       "2274     -14.78    -20.04   -43.90       -0.10      -0.10     -0.10   \n",
       "\n",
       "      magno_pitch  magno_roll  magno_yaw  y  \n",
       "0           21.15        9.07     -42.95  1  \n",
       "1           21.16        9.07     -42.95  1  \n",
       "2           21.15        9.09     -42.95  1  \n",
       "3           21.15        9.09     -42.95  1  \n",
       "4            8.15        9.10     -44.70  1  \n",
       "...           ...         ...        ... ..  \n",
       "2270        47.20       22.89      31.16  1  \n",
       "2271        49.50       24.72      28.68  1  \n",
       "2272         8.72       14.89     -44.64  1  \n",
       "2273        10.66       15.54     -44.46  1  \n",
       "2274         7.13       14.35     -44.76  2  \n",
       "\n",
       "[1939 rows x 10 columns]"
      ]
     },
     "execution_count": 11,
     "metadata": {},
     "output_type": "execute_result"
    }
   ],
   "source": [
    "X"
   ]
  },
  {
   "cell_type": "markdown",
   "metadata": {},
   "source": [
    "# Initial Training\n",
    "- this simulates model being initialized on its own and training, then returning trained weights in a JSON format"
   ]
  },
  {
   "cell_type": "code",
   "execution_count": 9,
   "metadata": {},
   "outputs": [
    {
     "data": {
      "text/plain": [
       "('Test accuracy:', 0.8273195876288659)"
      ]
     },
     "execution_count": 9,
     "metadata": {},
     "output_type": "execute_result"
    }
   ],
   "source": [
    "init_train(X, dump = 'trained.json')"
   ]
  },
  {
   "cell_type": "markdown",
   "metadata": {},
   "source": [
    "# Server weights"
   ]
  },
  {
   "cell_type": "markdown",
   "metadata": {},
   "source": [
    "## suppose server returns a set of weights and we use that to make prediction"
   ]
  },
  {
   "cell_type": "code",
   "execution_count": 5,
   "metadata": {},
   "outputs": [
    {
     "data": {
      "text/plain": [
       "('Test accuracy:', 0.24600309437854564)"
      ]
     },
     "execution_count": 5,
     "metadata": {},
     "output_type": "execute_result"
    }
   ],
   "source": [
    "predict(X, checkpoint='initial.json')"
   ]
  },
  {
   "cell_type": "markdown",
   "metadata": {},
   "source": [
    "## suppose we retrain model on server returned weights and then make prediction"
   ]
  },
  {
   "cell_type": "code",
   "execution_count": 6,
   "metadata": {},
   "outputs": [
    {
     "data": {
      "text/plain": [
       "('Test accuracy:', 0.8298969072164949)"
      ]
     },
     "execution_count": 6,
     "metadata": {},
     "output_type": "execute_result"
    }
   ],
   "source": [
    "re_train(X, checkpoint = 'initial.json',dump = 'trained.json')"
   ]
  },
  {
   "cell_type": "code",
   "execution_count": 14,
   "metadata": {},
   "outputs": [],
   "source": [
    "# fedavg fedprox"
   ]
  },
  {
   "cell_type": "markdown",
   "metadata": {},
   "source": [
    "## Testing for all datasets"
   ]
  },
  {
   "cell_type": "code",
   "execution_count": 7,
   "metadata": {},
   "outputs": [
    {
     "data": {
      "text/plain": [
       "('Test accuracy:', 0.779896013864818)"
      ]
     },
     "execution_count": 7,
     "metadata": {},
     "output_type": "execute_result"
    }
   ],
   "source": [
    "init_train(get_data(\"27E04243-B138-4F40-A164-F40B60165CF3.features_labels.csv.gz\"),'trained.json')"
   ]
  },
  {
   "cell_type": "code",
   "execution_count": 13,
   "metadata": {},
   "outputs": [
    {
     "data": {
      "text/plain": [
       "('Test accuracy:', 0.7601918465227818)"
      ]
     },
     "execution_count": 13,
     "metadata": {},
     "output_type": "execute_result"
    }
   ],
   "source": [
    "x = get_data(\"0BFC35E2-4817-4865-BFA7-764742302A2D.features_labels.csv.gz\")\n",
    "x['y'].max()\n",
    "\n",
    "init_train(x,'trained.json')"
   ]
  }
 ],
 "metadata": {
  "kernelspec": {
   "display_name": "tensorflow",
   "language": "python",
   "name": "python3"
  },
  "language_info": {
   "codemirror_mode": {
    "name": "ipython",
    "version": 3
   },
   "file_extension": ".py",
   "mimetype": "text/x-python",
   "name": "python",
   "nbconvert_exporter": "python",
   "pygments_lexer": "ipython3",
   "version": "3.10.11"
  }
 },
 "nbformat": 4,
 "nbformat_minor": 2
}
